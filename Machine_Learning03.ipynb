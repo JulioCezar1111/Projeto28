{
  "nbformat": 4,
  "nbformat_minor": 0,
  "metadata": {
    "colab": {
      "name": "Machine_Learning03.ipynb",
      "provenance": [],
      "authorship_tag": "ABX9TyOmY1AeACRl5gYXZGbMVJhh",
      "include_colab_link": true
    },
    "kernelspec": {
      "name": "python3",
      "display_name": "Python 3"
    },
    "language_info": {
      "name": "python"
    }
  },
  "cells": [
    {
      "cell_type": "markdown",
      "metadata": {
        "id": "view-in-github",
        "colab_type": "text"
      },
      "source": [
        "<a href=\"https://colab.research.google.com/github/JulioCezar1111/Projeto28/blob/main/Machine_Learning03.ipynb\" target=\"_parent\"><img src=\"https://colab.research.google.com/assets/colab-badge.svg\" alt=\"Open In Colab\"/></a>"
      ]
    },
    {
      "cell_type": "markdown",
      "source": [
        "# **Baixar dataset**"
      ],
      "metadata": {
        "id": "GXleWCon9s1L"
      }
    },
    {
      "cell_type": "code",
      "source": [
        "!wget https://raw.githubusercontent.com/lucaslattari/MachineLearningSeries/master/Ep%204/svbr.csv"
      ],
      "metadata": {
        "colab": {
          "base_uri": "https://localhost:8080/"
        },
        "id": "7u4PTOuH9naB",
        "outputId": "4e729319-f916-42c9-8720-0c13fe7514b3"
      },
      "execution_count": 3,
      "outputs": [
        {
          "output_type": "stream",
          "name": "stdout",
          "text": [
            "--2022-06-18 17:57:46--  https://raw.githubusercontent.com/lucaslattari/MachineLearningSeries/master/Ep%204/svbr.csv\n",
            "Resolving raw.githubusercontent.com (raw.githubusercontent.com)... 185.199.110.133, 185.199.109.133, 185.199.111.133, ...\n",
            "Connecting to raw.githubusercontent.com (raw.githubusercontent.com)|185.199.110.133|:443... connected.\n",
            "HTTP request sent, awaiting response... 200 OK\n",
            "Length: 1543 (1.5K) [text/plain]\n",
            "Saving to: ‘svbr.csv’\n",
            "\n",
            "\rsvbr.csv              0%[                    ]       0  --.-KB/s               \rsvbr.csv            100%[===================>]   1.51K  --.-KB/s    in 0s      \n",
            "\n",
            "2022-06-18 17:57:46 (18.3 MB/s) - ‘svbr.csv’ saved [1543/1543]\n",
            "\n"
          ]
        }
      ]
    },
    {
      "cell_type": "markdown",
      "source": [
        "# **Importar bibliotecas**"
      ],
      "metadata": {
        "id": "J8B6efEP9Apt"
      }
    },
    {
      "cell_type": "code",
      "execution_count": 1,
      "metadata": {
        "id": "CJPuSclW853Q"
      },
      "outputs": [],
      "source": [
        "import numpy as np\n",
        "import pandas as pd"
      ]
    },
    {
      "cell_type": "markdown",
      "source": [
        "# **Metodos**"
      ],
      "metadata": {
        "id": "NrqFmwsv9JxA"
      }
    },
    {
      "cell_type": "code",
      "source": [
        "def loadDataSet(filename):\n",
        "    print(\"Carregando a base de dados...\")\n",
        "    baseDeDados = pd.read_csv(filename, delimiter=';')\n",
        "    X = baseDeDados.iloc[:,:-1].values\n",
        "    y = baseDeDados.iloc[:,-1].values\n",
        "    print(\"ok!\")\n",
        "    return X, y\n",
        "\n",
        "def fillMissingData(X):\n",
        "    print(\"Preenchendo dados que estão faltando...\")\n",
        "    from sklearn.impute import SimpleImputer\n",
        "    imputer = SimpleImputer(missing_values=np.nan, strategy='median')\n",
        "    X[:,1:] = imputer.fit_transform(X[:,1:])\n",
        "    print(\"ok!\")\n",
        "    return X\n",
        "\n",
        "def computeCategorization(X):\n",
        "    print(\"Computando rotulação...\")\n",
        "    from sklearn.preprocessing import LabelEncoder\n",
        "    labelencoder_X = LabelEncoder()\n",
        "    X[:, 0] = labelencoder_X.fit_transform(X[:, 0])\n",
        "\n",
        "    D = pd.get_dummies(X[:,0])\n",
        "    X = X[:,1:]\n",
        "    X = np.insert(X, 0, D.values, axis=1)\n",
        "    print(\"ok!\")\n",
        "    return X\n",
        "\n",
        "def splitTrainTestSets(X, y, testSize):\n",
        "    print(\"Separando conjuntos de teste e treino...\")\n",
        "    from sklearn.model_selection import train_test_split\n",
        "    XTrain, XTest, yTrain, yTest = train_test_split(X, y, test_size = testSize)\n",
        "    print(\"ok!\")\n",
        "    return XTrain, XTest, yTrain, yTest\n",
        "\n",
        "def computeNormalization(XTrain, XTest):\n",
        "    print(\"Computando Normalização...\")\n",
        "    from sklearn.preprocessing import StandardScaler\n",
        "    scaleX = StandardScaler()\n",
        "    XTrain = scaleX.fit_transform(XTrain)\n",
        "    XTest = scaleX.fit_transform(XTest)\n",
        "    print(\"ok!\")\n",
        "    return XTrain, XTest\n",
        "\n",
        "def computeLinearRegression(XTrain, yTrain, XTest, yTest):\n",
        "    import matplotlib.pyplot as plt\n",
        "    from sklearn.linear_model import LinearRegression\n",
        "\n",
        "    print(\"Computando Regressão Linear...\")\n",
        "    regressor = LinearRegression()\n",
        "    regressor.fit(XTrain, yTrain)\n",
        "    yPred = regressor.predict(XTest)\n",
        "    print(\"ok!\")\n",
        "\n",
        "    print(XTest[:,-1])\n",
        "\n",
        "    plt.scatter(XTest[:,-1], yTest, color = 'red')\n",
        "    plt.plot(XTest[:,-1], regressor.predict(XTest), color='blue')\n",
        "    plt.title(\"Inscritos x Visualizações\")\n",
        "    plt.xlabel(\"Inscritos\")\n",
        "    plt.ylabel(\"Visualizações\")\n",
        "    plt.show()\n",
        "\n",
        "def runLinearRegressionExample():\n",
        "    X, y = loadDataSet(\"svbr.csv\")\n",
        "    X = fillMissingData(X)\n",
        "    X = computeCategorization(X)\n",
        "    XTrain, XTest, yTrain, yTest = splitTrainTestSets(X, y, 0.8)\n",
        "    computeLinearRegression(XTrain, yTrain, XTest, yTest)"
      ],
      "metadata": {
        "id": "ipmTcvQ29Mi6"
      },
      "execution_count": 2,
      "outputs": []
    },
    {
      "cell_type": "markdown",
      "source": [
        "# **Chamar programa**"
      ],
      "metadata": {
        "id": "7_j9HiGw95EH"
      }
    },
    {
      "cell_type": "code",
      "source": [
        "if __name__ == \"__main__\":\n",
        "    runLinearRegressionExample()"
      ],
      "metadata": {
        "colab": {
          "base_uri": "https://localhost:8080/",
          "height": 555
        },
        "id": "HOLugnNY99k5",
        "outputId": "ec67f32f-be75-41e2-ced4-356cd22a0326"
      },
      "execution_count": 4,
      "outputs": [
        {
          "output_type": "stream",
          "name": "stdout",
          "text": [
            "Carregando a base de dados...\n",
            "ok!\n",
            "Preenchendo dados que estão faltando...\n",
            "ok!\n",
            "Computando rotulação...\n",
            "ok!\n",
            "Separando conjuntos de teste e treino...\n",
            "ok!\n",
            "Computando Regressão Linear...\n",
            "ok!\n",
            "[1423056.0 7858.0 321068.0 65453.0 528761.0 78876.0 13661.0 274196.0\n",
            " 9118.0 138132.0 31680.0 129466.0 18404.0 66122.0 6216.0 11188.0 13438.0\n",
            " 72425.0 5299.0 35241.0 13148.0 45756.0 6421.0 135118.0 56006.0 64100.0\n",
            " 17388.0 2308.0 137409.0 4357.0 49797.0 38494.0 53838.0 32788.0 42063.0\n",
            " 2330.0 860493.0 374057.0]\n"
          ]
        },
        {
          "output_type": "display_data",
          "data": {
            "text/plain": [
              "<Figure size 432x288 with 1 Axes>"
            ],
            "image/png": "[encoded data removed]"
          },
          "metadata": {
            "needs_background": "light"
          }
        }
      ]
    }
  ]
}