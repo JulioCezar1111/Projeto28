{
  "nbformat": 4,
  "nbformat_minor": 0,
  "metadata": {
    "colab": {
      "name": "ML_RegressãoLinearMutipla.ipynb",
      "provenance": [],
      "authorship_tag": "ABX9TyOV7geKy/cYiWVp7g3/NiHU",
      "include_colab_link": true
    },
    "kernelspec": {
      "name": "python3",
      "display_name": "Python 3"
    },
    "language_info": {
      "name": "python"
    }
  },
  "cells": [
    {
      "cell_type": "markdown",
      "metadata": {
        "id": "view-in-github",
        "colab_type": "text"
      },
      "source": [
        "<a href=\"https://colab.research.google.com/github/JulioCezar1111/Projeto28/blob/main/ML_Regress%C3%A3oLinearMutipla.ipynb\" target=\"_parent\"><img src=\"https://colab.research.google.com/assets/colab-badge.svg\" alt=\"Open In Colab\"/></a>"
      ]
    },
    {
      "cell_type": "code",
      "execution_count": null,
      "metadata": {
        "id": "LhlgAJUpEm3U"
      },
      "outputs": [],
      "source": [
        "import preprocessing as pre\n",
        "import numpy as np\n",
        "import pandas as pd\n",
        "\n",
        "#temporizador\n",
        "import time\n",
        "from functools import wraps\n",
        "\n",
        "def computeMultipleLinearRegressionModel(XTrain, yTrain, XTest, yTest):\n",
        "    from sklearn.linear_model import LinearRegression\n",
        "    regressor = LinearRegression()\n",
        "    regressor.fit(XTrain, yTrain)\n",
        "\n",
        "    yPred = regressor.predict(XTest)\n",
        "    '''for i in range(0, yPred.shape[0]):\n",
        "        print(yPred[i], yTest[i], abs(yPred[i] - yTest[i]))\n",
        "        time.sleep(1)'''\n",
        "\n",
        "def runMultipleLinearRegressionExample(filename):\n",
        "    start_time = time.time()\n",
        "    X, y = pre.loadDataset(filename)\n",
        "    elapsed_time = time.time() - start_time\n",
        "    print(\"Load Dataset: %.2f\" % elapsed_time, \"segundos.\")\n",
        "\n",
        "    start_time = time.time()\n",
        "    X = pre.fillMissingData(X, 0, 2)\n",
        "    elapsed_time = time.time() - start_time\n",
        "    print(\"Fill Missing Data: %.2f\" % elapsed_time, \"segundos.\")\n",
        "\n",
        "    start_time = time.time()\n",
        "    X = pre.computeCategorization(X, 3)\n",
        "    elapsed_time = time.time() - start_time\n",
        "    print(\"Compute Categorization: %.2f\" % elapsed_time, \"segundos.\")\n",
        "\n",
        "    start_time = time.time()\n",
        "    XTrain, XTest, yTrain, yTest = pre.splitTrainTestSets(X, y, 0.8)\n",
        "    elapsed_time = time.time() - start_time\n",
        "    print(\"Split Train Test sets: %.2f\" % elapsed_time, \"segundos.\")\n",
        "\n",
        "    start_time = time.time()\n",
        "    computeMultipleLinearRegressionModel(XTrain, yTrain, XTest, yTest)\n",
        "    elapsed_time = time.time() - start_time\n",
        "    print(\"Compute Multiple Linear Regression: %.2f\" % elapsed_time, \"segundos.\")\n",
        "\n",
        "if __name__ == \"__main__\":\n",
        "    runMultipleLinearRegressionExample(\"insurance.csv\")"
      ]
    }
  ]
}